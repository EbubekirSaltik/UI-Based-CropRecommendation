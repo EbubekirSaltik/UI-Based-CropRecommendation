{
  "nbformat": 4,
  "nbformat_minor": 0,
  "metadata": {
    "colab": {
      "provenance": [],
      "gpuType": "T4"
    },
    "kernelspec": {
      "name": "python3",
      "display_name": "Python 3"
    },
    "language_info": {
      "name": "python"
    },
    "accelerator": "GPU"
  },
  "cells": [
    {
      "cell_type": "code",
      "source": [
        "# pip install tensorflow==2.15.0 tensorflowjs==4.15.0 jax==0.4.23 jaxlib==0.4.23"
      ],
      "metadata": {
        "id": "GRt6Kivy2U2P"
      },
      "execution_count": null,
      "outputs": []
    },
    {
      "cell_type": "code",
      "execution_count": null,
      "metadata": {
        "id": "9B_xqPyNkDzy"
      },
      "outputs": [],
      "source": [
        "import numpy as np\n",
        "import pandas as pd\n",
        "import matplotlib.pyplot as plt\n",
        "from keras.models import Sequential\n",
        "from keras.layers import Dense, Dropout\n",
        "from sklearn.preprocessing import StandardScaler,MinMaxScaler\n",
        "from sklearn.preprocessing import OneHotEncoder\n",
        "from sklearn.preprocessing import LabelEncoder\n",
        "from keras.layers import Dropout\n",
        "import matplotlib.pyplot as plt"
      ]
    },
    {
      "cell_type": "code",
      "source": [
        "train_data = pd.DataFrame(pd.read_csv('/content/DataSet.csv'))\n",
        "print(train_data.head())"
      ],
      "metadata": {
        "colab": {
          "base_uri": "https://localhost:8080/"
        },
        "id": "Jae_aUsrkF3b",
        "outputId": "1be62942-9350-45e3-df30-e7a866582922"
      },
      "execution_count": null,
      "outputs": [
        {
          "output_type": "stream",
          "name": "stdout",
          "text": [
            "     N   P   K  temperature   humidity        ph    rainfall   label\n",
            "0   96  46  53    16.949342  56.607275  7.111729  417.441402  Bugday\n",
            "1  115  65  34    20.067433  58.754362  7.227359  414.138805  Bugday\n",
            "2   99  47  39    19.141188  57.984594  6.774922  422.538925  Bugday\n",
            "3   91  61  47    18.078305  56.934532  7.224161  424.742192  Bugday\n",
            "4   93  56  41    19.675341  54.457049  7.560986  405.147602  Bugday\n"
          ]
        }
      ]
    },
    {
      "cell_type": "code",
      "source": [
        "Y_train = train_data['label']\n",
        "X_train = train_data.drop('label', axis = 1)\n",
        "print(X_train.head())\n",
        "print(\"\")\n",
        "print(Y_train.head())"
      ],
      "metadata": {
        "colab": {
          "base_uri": "https://localhost:8080/"
        },
        "id": "ZvyUYqmxkNoF",
        "outputId": "caae118d-c289-4373-9496-779a08099f58"
      },
      "execution_count": null,
      "outputs": [
        {
          "output_type": "stream",
          "name": "stdout",
          "text": [
            "     N   P   K  temperature   humidity        ph    rainfall\n",
            "0   96  46  53    16.949342  56.607275  7.111729  417.441402\n",
            "1  115  65  34    20.067433  58.754362  7.227359  414.138805\n",
            "2   99  47  39    19.141188  57.984594  6.774922  422.538925\n",
            "3   91  61  47    18.078305  56.934532  7.224161  424.742192\n",
            "4   93  56  41    19.675341  54.457049  7.560986  405.147602\n",
            "\n",
            "0    Bugday\n",
            "1    Bugday\n",
            "2    Bugday\n",
            "3    Bugday\n",
            "4    Bugday\n",
            "Name: label, dtype: object\n"
          ]
        }
      ]
    },
    {
      "cell_type": "code",
      "source": [
        "sc = StandardScaler()\n",
        "train_scaled = sc.fit_transform(X_train)\n",
        "print(train_scaled)\n",
        "data = train_scaled"
      ],
      "metadata": {
        "id": "cSGsDz2skblH",
        "colab": {
          "base_uri": "https://localhost:8080/"
        },
        "outputId": "0cf2281d-6fec-4df9-803e-53ae584ca6e4"
      },
      "execution_count": null,
      "outputs": [
        {
          "output_type": "stream",
          "name": "stdout",
          "text": [
            "[[ 0.99695145 -0.4020534  -0.39995883 ...  0.36950502  0.35254699\n",
            "  -0.22088153]\n",
            " [ 1.61388746  0.86773547 -1.01967078 ...  0.52710824  0.49468545\n",
            "  -0.24951686]\n",
            " [ 1.0943624  -0.33522241 -0.85658869 ...  0.47060475 -0.06147385\n",
            "  -0.17668322]\n",
            " ...\n",
            " [ 4.04916118  3.5409752  -1.9329305  ... -3.23117539  3.05601364\n",
            "   3.22616908]\n",
            " [-2.05525827 -2.60747617  3.3835457  ...  3.09941356 -5.1214322\n",
            "  -3.27674137]\n",
            " [ 4.14657213 -3.3426171  -2.06339617 ... -3.59184064 -8.30695389\n",
            "   5.74062779]]\n"
          ]
        }
      ]
    },
    {
      "cell_type": "code",
      "source": [],
      "metadata": {
        "id": "3UE9Dz0BN78L"
      },
      "execution_count": null,
      "outputs": []
    },
    {
      "cell_type": "code",
      "source": [
        "from sklearn.model_selection import train_test_split\n",
        "\n",
        "data = pd.read_csv('/content/DataSet.csv')\n",
        "\n",
        "label_encoder = LabelEncoder()\n",
        "data['label'] = label_encoder.fit_transform(data['label'])\n",
        "\n",
        "# Separate features and target\n",
        "X = data.drop(columns=['label'])\n",
        "y = data['label']\n",
        "\n",
        "# Normalize the features\n",
        "scaler = StandardScaler()\n",
        "X_scaled = scaler.fit_transform(X)\n",
        "\n",
        "# Convert target to one-hot encoding\n",
        "y_one_hot = pd.get_dummies(y).values\n",
        "# Split the dataset into training and testing sets\n",
        "X_train, X_test, y_train, y_test = train_test_split(X_scaled, y_one_hot, test_size=0.2, random_state=42)\n",
        "print(\"shape::::::\",y_train.shape[1])\n",
        "# Step 2: Define the Perceptron Model (MLP)\n",
        "model = Sequential([\n",
        "    Dense(64, input_dim=X_train.shape[1], activation='relu'),\n",
        "    Dense(64, activation='relu'),\n",
        "    Dense(y_train.shape[1], activation='sigmoid')\n",
        "])\n",
        "# Compile the model\n",
        "model.compile(optimizer='adam', loss='categorical_crossentropy', metrics=['accuracy'])\n",
        "\n",
        "# Step 3: Train the model\n",
        "model.fit(X_train, y_train, epochs=50, batch_size=32, validation_split=0.2, verbose=1)\n",
        "\n",
        "# Step 4: Evaluate the model\n",
        "loss, accuracy = model.evaluate(X_test, y_test, verbose=0)\n",
        "print(f\"Test Accuracy: {accuracy:.2f}\")\n",
        "\n",
        "# Step 5: Make predictions\n",
        "sample_input = np.array([[90, 42, 43, 20.88, 82.00, 6.5, 203]])  # Example input\n",
        "sample_input_scaled = scaler.transform(sample_input)\n",
        "prediction = model.predict(sample_input_scaled)\n",
        "predicted_label = label_encoder.inverse_transform([np.argmax(prediction)])\n",
        "print(f\"Recommended Crop: {predicted_label[0]}\")\n"
      ],
      "metadata": {
        "colab": {
          "base_uri": "https://localhost:8080/"
        },
        "id": "Nk1r_qRQknRG",
        "outputId": "c65d1b8a-359c-4e98-e393-a397d2a59e9a"
      },
      "execution_count": null,
      "outputs": [
        {
          "output_type": "stream",
          "name": "stdout",
          "text": [
            "shape:::::: 36\n"
          ]
        },
        {
          "output_type": "stream",
          "name": "stderr",
          "text": [
            "/usr/local/lib/python3.11/dist-packages/keras/src/layers/core/dense.py:87: UserWarning: Do not pass an `input_shape`/`input_dim` argument to a layer. When using Sequential models, prefer using an `Input(shape)` object as the first layer in the model instead.\n",
            "  super().__init__(activity_regularizer=activity_regularizer, **kwargs)\n"
          ]
        },
        {
          "output_type": "stream",
          "name": "stdout",
          "text": [
            "Epoch 1/50\n",
            "\u001b[1m58/58\u001b[0m \u001b[32m━━━━━━━━━━━━━━━━━━━━\u001b[0m\u001b[37m\u001b[0m \u001b[1m4s\u001b[0m 28ms/step - accuracy: 0.0773 - loss: 3.4803 - val_accuracy: 0.2538 - val_loss: 3.0461\n",
            "Epoch 2/50\n",
            "\u001b[1m58/58\u001b[0m \u001b[32m━━━━━━━━━━━━━━━━━━━━\u001b[0m\u001b[37m\u001b[0m \u001b[1m0s\u001b[0m 4ms/step - accuracy: 0.3112 - loss: 2.8872 - val_accuracy: 0.4751 - val_loss: 2.2308\n",
            "Epoch 3/50\n",
            "\u001b[1m58/58\u001b[0m \u001b[32m━━━━━━━━━━━━━━━━━━━━\u001b[0m\u001b[37m\u001b[0m \u001b[1m0s\u001b[0m 3ms/step - accuracy: 0.5697 - loss: 1.9768 - val_accuracy: 0.6508 - val_loss: 1.5142\n",
            "Epoch 4/50\n",
            "\u001b[1m58/58\u001b[0m \u001b[32m━━━━━━━━━━━━━━━━━━━━\u001b[0m\u001b[37m\u001b[0m \u001b[1m0s\u001b[0m 3ms/step - accuracy: 0.7261 - loss: 1.3287 - val_accuracy: 0.7289 - val_loss: 1.1390\n",
            "Epoch 5/50\n",
            "\u001b[1m58/58\u001b[0m \u001b[32m━━━━━━━━━━━━━━━━━━━━\u001b[0m\u001b[37m\u001b[0m \u001b[1m0s\u001b[0m 4ms/step - accuracy: 0.7968 - loss: 0.9210 - val_accuracy: 0.7679 - val_loss: 0.9540\n",
            "Epoch 6/50\n",
            "\u001b[1m58/58\u001b[0m \u001b[32m━━━━━━━━━━━━━━━━━━━━\u001b[0m\u001b[37m\u001b[0m \u001b[1m0s\u001b[0m 4ms/step - accuracy: 0.8085 - loss: 0.7703 - val_accuracy: 0.7852 - val_loss: 0.8541\n",
            "Epoch 7/50\n",
            "\u001b[1m58/58\u001b[0m \u001b[32m━━━━━━━━━━━━━━━━━━━━\u001b[0m\u001b[37m\u001b[0m \u001b[1m0s\u001b[0m 3ms/step - accuracy: 0.8248 - loss: 0.6629 - val_accuracy: 0.8048 - val_loss: 0.7680\n",
            "Epoch 8/50\n",
            "\u001b[1m58/58\u001b[0m \u001b[32m━━━━━━━━━━━━━━━━━━━━\u001b[0m\u001b[37m\u001b[0m \u001b[1m0s\u001b[0m 3ms/step - accuracy: 0.8450 - loss: 0.5503 - val_accuracy: 0.8026 - val_loss: 0.7354\n",
            "Epoch 9/50\n",
            "\u001b[1m58/58\u001b[0m \u001b[32m━━━━━━━━━━━━━━━━━━━━\u001b[0m\u001b[37m\u001b[0m \u001b[1m0s\u001b[0m 3ms/step - accuracy: 0.8537 - loss: 0.5090 - val_accuracy: 0.8026 - val_loss: 0.6945\n",
            "Epoch 10/50\n",
            "\u001b[1m58/58\u001b[0m \u001b[32m━━━━━━━━━━━━━━━━━━━━\u001b[0m\u001b[37m\u001b[0m \u001b[1m0s\u001b[0m 4ms/step - accuracy: 0.8763 - loss: 0.4472 - val_accuracy: 0.8243 - val_loss: 0.6648\n",
            "Epoch 11/50\n",
            "\u001b[1m58/58\u001b[0m \u001b[32m━━━━━━━━━━━━━━━━━━━━\u001b[0m\u001b[37m\u001b[0m \u001b[1m0s\u001b[0m 3ms/step - accuracy: 0.8672 - loss: 0.4220 - val_accuracy: 0.8221 - val_loss: 0.6632\n",
            "Epoch 12/50\n",
            "\u001b[1m58/58\u001b[0m \u001b[32m━━━━━━━━━━━━━━━━━━━━\u001b[0m\u001b[37m\u001b[0m \u001b[1m0s\u001b[0m 4ms/step - accuracy: 0.8832 - loss: 0.4015 - val_accuracy: 0.8373 - val_loss: 0.6280\n",
            "Epoch 13/50\n",
            "\u001b[1m58/58\u001b[0m \u001b[32m━━━━━━━━━━━━━━━━━━━━\u001b[0m\u001b[37m\u001b[0m \u001b[1m0s\u001b[0m 4ms/step - accuracy: 0.8884 - loss: 0.3887 - val_accuracy: 0.8265 - val_loss: 0.6249\n",
            "Epoch 14/50\n",
            "\u001b[1m58/58\u001b[0m \u001b[32m━━━━━━━━━━━━━━━━━━━━\u001b[0m\u001b[37m\u001b[0m \u001b[1m0s\u001b[0m 4ms/step - accuracy: 0.8841 - loss: 0.3561 - val_accuracy: 0.8243 - val_loss: 0.6093\n",
            "Epoch 15/50\n",
            "\u001b[1m58/58\u001b[0m \u001b[32m━━━━━━━━━━━━━━━━━━━━\u001b[0m\u001b[37m\u001b[0m \u001b[1m0s\u001b[0m 4ms/step - accuracy: 0.8915 - loss: 0.3373 - val_accuracy: 0.8286 - val_loss: 0.6086\n",
            "Epoch 16/50\n",
            "\u001b[1m58/58\u001b[0m \u001b[32m━━━━━━━━━━━━━━━━━━━━\u001b[0m\u001b[37m\u001b[0m \u001b[1m0s\u001b[0m 3ms/step - accuracy: 0.8969 - loss: 0.3371 - val_accuracy: 0.8330 - val_loss: 0.6016\n",
            "Epoch 17/50\n",
            "\u001b[1m58/58\u001b[0m \u001b[32m━━━━━━━━━━━━━━━━━━━━\u001b[0m\u001b[37m\u001b[0m \u001b[1m0s\u001b[0m 4ms/step - accuracy: 0.9036 - loss: 0.3169 - val_accuracy: 0.8308 - val_loss: 0.5936\n",
            "Epoch 18/50\n",
            "\u001b[1m58/58\u001b[0m \u001b[32m━━━━━━━━━━━━━━━━━━━━\u001b[0m\u001b[37m\u001b[0m \u001b[1m0s\u001b[0m 4ms/step - accuracy: 0.8884 - loss: 0.3288 - val_accuracy: 0.8178 - val_loss: 0.5762\n",
            "Epoch 19/50\n",
            "\u001b[1m58/58\u001b[0m \u001b[32m━━━━━━━━━━━━━━━━━━━━\u001b[0m\u001b[37m\u001b[0m \u001b[1m0s\u001b[0m 4ms/step - accuracy: 0.8918 - loss: 0.3082 - val_accuracy: 0.8308 - val_loss: 0.5861\n",
            "Epoch 20/50\n",
            "\u001b[1m58/58\u001b[0m \u001b[32m━━━━━━━━━━━━━━━━━━━━\u001b[0m\u001b[37m\u001b[0m \u001b[1m0s\u001b[0m 4ms/step - accuracy: 0.9026 - loss: 0.3016 - val_accuracy: 0.8265 - val_loss: 0.5608\n",
            "Epoch 21/50\n",
            "\u001b[1m58/58\u001b[0m \u001b[32m━━━━━━━━━━━━━━━━━━━━\u001b[0m\u001b[37m\u001b[0m \u001b[1m0s\u001b[0m 3ms/step - accuracy: 0.8914 - loss: 0.2907 - val_accuracy: 0.8373 - val_loss: 0.5480\n",
            "Epoch 22/50\n",
            "\u001b[1m58/58\u001b[0m \u001b[32m━━━━━━━━━━━━━━━━━━━━\u001b[0m\u001b[37m\u001b[0m \u001b[1m0s\u001b[0m 4ms/step - accuracy: 0.9041 - loss: 0.2822 - val_accuracy: 0.8373 - val_loss: 0.5711\n",
            "Epoch 23/50\n",
            "\u001b[1m58/58\u001b[0m \u001b[32m━━━━━━━━━━━━━━━━━━━━\u001b[0m\u001b[37m\u001b[0m \u001b[1m0s\u001b[0m 5ms/step - accuracy: 0.8984 - loss: 0.2814 - val_accuracy: 0.8460 - val_loss: 0.5619\n",
            "Epoch 24/50\n",
            "\u001b[1m58/58\u001b[0m \u001b[32m━━━━━━━━━━━━━━━━━━━━\u001b[0m\u001b[37m\u001b[0m \u001b[1m0s\u001b[0m 5ms/step - accuracy: 0.9127 - loss: 0.2549 - val_accuracy: 0.8308 - val_loss: 0.5612\n",
            "Epoch 25/50\n",
            "\u001b[1m58/58\u001b[0m \u001b[32m━━━━━━━━━━━━━━━━━━━━\u001b[0m\u001b[37m\u001b[0m \u001b[1m0s\u001b[0m 5ms/step - accuracy: 0.9104 - loss: 0.2450 - val_accuracy: 0.8373 - val_loss: 0.5629\n",
            "Epoch 26/50\n",
            "\u001b[1m58/58\u001b[0m \u001b[32m━━━━━━━━━━━━━━━━━━━━\u001b[0m\u001b[37m\u001b[0m \u001b[1m0s\u001b[0m 6ms/step - accuracy: 0.9219 - loss: 0.2322 - val_accuracy: 0.8438 - val_loss: 0.5481\n",
            "Epoch 27/50\n",
            "\u001b[1m58/58\u001b[0m \u001b[32m━━━━━━━━━━━━━━━━━━━━\u001b[0m\u001b[37m\u001b[0m \u001b[1m0s\u001b[0m 5ms/step - accuracy: 0.9204 - loss: 0.2371 - val_accuracy: 0.8243 - val_loss: 0.5550\n",
            "Epoch 28/50\n",
            "\u001b[1m58/58\u001b[0m \u001b[32m━━━━━━━━━━━━━━━━━━━━\u001b[0m\u001b[37m\u001b[0m \u001b[1m1s\u001b[0m 3ms/step - accuracy: 0.9112 - loss: 0.2341 - val_accuracy: 0.8243 - val_loss: 0.5487\n",
            "Epoch 29/50\n",
            "\u001b[1m58/58\u001b[0m \u001b[32m━━━━━━━━━━━━━━━━━━━━\u001b[0m\u001b[37m\u001b[0m \u001b[1m0s\u001b[0m 3ms/step - accuracy: 0.9100 - loss: 0.2441 - val_accuracy: 0.8373 - val_loss: 0.5579\n",
            "Epoch 30/50\n",
            "\u001b[1m58/58\u001b[0m \u001b[32m━━━━━━━━━━━━━━━━━━━━\u001b[0m\u001b[37m\u001b[0m \u001b[1m0s\u001b[0m 3ms/step - accuracy: 0.9145 - loss: 0.2443 - val_accuracy: 0.8286 - val_loss: 0.5415\n",
            "Epoch 31/50\n",
            "\u001b[1m58/58\u001b[0m \u001b[32m━━━━━━━━━━━━━━━━━━━━\u001b[0m\u001b[37m\u001b[0m \u001b[1m0s\u001b[0m 3ms/step - accuracy: 0.9174 - loss: 0.2209 - val_accuracy: 0.8286 - val_loss: 0.5410\n",
            "Epoch 32/50\n",
            "\u001b[1m58/58\u001b[0m \u001b[32m━━━━━━━━━━━━━━━━━━━━\u001b[0m\u001b[37m\u001b[0m \u001b[1m0s\u001b[0m 4ms/step - accuracy: 0.9195 - loss: 0.2207 - val_accuracy: 0.8286 - val_loss: 0.5476\n",
            "Epoch 33/50\n",
            "\u001b[1m58/58\u001b[0m \u001b[32m━━━━━━━━━━━━━━━━━━━━\u001b[0m\u001b[37m\u001b[0m \u001b[1m0s\u001b[0m 4ms/step - accuracy: 0.9162 - loss: 0.2270 - val_accuracy: 0.8438 - val_loss: 0.5545\n",
            "Epoch 34/50\n",
            "\u001b[1m58/58\u001b[0m \u001b[32m━━━━━━━━━━━━━━━━━━━━\u001b[0m\u001b[37m\u001b[0m \u001b[1m0s\u001b[0m 4ms/step - accuracy: 0.9336 - loss: 0.1981 - val_accuracy: 0.8330 - val_loss: 0.5557\n",
            "Epoch 35/50\n",
            "\u001b[1m58/58\u001b[0m \u001b[32m━━━━━━━━━━━━━━━━━━━━\u001b[0m\u001b[37m\u001b[0m \u001b[1m0s\u001b[0m 3ms/step - accuracy: 0.9265 - loss: 0.2068 - val_accuracy: 0.8286 - val_loss: 0.5612\n",
            "Epoch 36/50\n",
            "\u001b[1m58/58\u001b[0m \u001b[32m━━━━━━━━━━━━━━━━━━━━\u001b[0m\u001b[37m\u001b[0m \u001b[1m0s\u001b[0m 3ms/step - accuracy: 0.9118 - loss: 0.2274 - val_accuracy: 0.8482 - val_loss: 0.5366\n",
            "Epoch 37/50\n",
            "\u001b[1m58/58\u001b[0m \u001b[32m━━━━━━━━━━━━━━━━━━━━\u001b[0m\u001b[37m\u001b[0m \u001b[1m0s\u001b[0m 4ms/step - accuracy: 0.9248 - loss: 0.2051 - val_accuracy: 0.8416 - val_loss: 0.5712\n",
            "Epoch 38/50\n",
            "\u001b[1m58/58\u001b[0m \u001b[32m━━━━━━━━━━━━━━━━━━━━\u001b[0m\u001b[37m\u001b[0m \u001b[1m0s\u001b[0m 3ms/step - accuracy: 0.9151 - loss: 0.2142 - val_accuracy: 0.8460 - val_loss: 0.5315\n",
            "Epoch 39/50\n",
            "\u001b[1m58/58\u001b[0m \u001b[32m━━━━━━━━━━━━━━━━━━━━\u001b[0m\u001b[37m\u001b[0m \u001b[1m0s\u001b[0m 4ms/step - accuracy: 0.9171 - loss: 0.2066 - val_accuracy: 0.8373 - val_loss: 0.5374\n",
            "Epoch 40/50\n",
            "\u001b[1m58/58\u001b[0m \u001b[32m━━━━━━━━━━━━━━━━━━━━\u001b[0m\u001b[37m\u001b[0m \u001b[1m0s\u001b[0m 3ms/step - accuracy: 0.9229 - loss: 0.1927 - val_accuracy: 0.8373 - val_loss: 0.5590\n",
            "Epoch 41/50\n",
            "\u001b[1m58/58\u001b[0m \u001b[32m━━━━━━━━━━━━━━━━━━━━\u001b[0m\u001b[37m\u001b[0m \u001b[1m0s\u001b[0m 4ms/step - accuracy: 0.9176 - loss: 0.2098 - val_accuracy: 0.8351 - val_loss: 0.5571\n",
            "Epoch 42/50\n",
            "\u001b[1m58/58\u001b[0m \u001b[32m━━━━━━━━━━━━━━━━━━━━\u001b[0m\u001b[37m\u001b[0m \u001b[1m0s\u001b[0m 3ms/step - accuracy: 0.9310 - loss: 0.1783 - val_accuracy: 0.8265 - val_loss: 0.5521\n",
            "Epoch 43/50\n",
            "\u001b[1m58/58\u001b[0m \u001b[32m━━━━━━━━━━━━━━━━━━━━\u001b[0m\u001b[37m\u001b[0m \u001b[1m0s\u001b[0m 3ms/step - accuracy: 0.9244 - loss: 0.1874 - val_accuracy: 0.8395 - val_loss: 0.5479\n",
            "Epoch 44/50\n",
            "\u001b[1m58/58\u001b[0m \u001b[32m━━━━━━━━━━━━━━━━━━━━\u001b[0m\u001b[37m\u001b[0m \u001b[1m0s\u001b[0m 3ms/step - accuracy: 0.9304 - loss: 0.1882 - val_accuracy: 0.8243 - val_loss: 0.5589\n",
            "Epoch 45/50\n",
            "\u001b[1m58/58\u001b[0m \u001b[32m━━━━━━━━━━━━━━━━━━━━\u001b[0m\u001b[37m\u001b[0m \u001b[1m0s\u001b[0m 4ms/step - accuracy: 0.9218 - loss: 0.2005 - val_accuracy: 0.8286 - val_loss: 0.5543\n",
            "Epoch 46/50\n",
            "\u001b[1m58/58\u001b[0m \u001b[32m━━━━━━━━━━━━━━━━━━━━\u001b[0m\u001b[37m\u001b[0m \u001b[1m0s\u001b[0m 3ms/step - accuracy: 0.9223 - loss: 0.1960 - val_accuracy: 0.8330 - val_loss: 0.5407\n",
            "Epoch 47/50\n",
            "\u001b[1m58/58\u001b[0m \u001b[32m━━━━━━━━━━━━━━━━━━━━\u001b[0m\u001b[37m\u001b[0m \u001b[1m0s\u001b[0m 4ms/step - accuracy: 0.9337 - loss: 0.1810 - val_accuracy: 0.8416 - val_loss: 0.5560\n",
            "Epoch 48/50\n",
            "\u001b[1m58/58\u001b[0m \u001b[32m━━━━━━━━━━━━━━━━━━━━\u001b[0m\u001b[37m\u001b[0m \u001b[1m0s\u001b[0m 4ms/step - accuracy: 0.9243 - loss: 0.1792 - val_accuracy: 0.8286 - val_loss: 0.5794\n",
            "Epoch 49/50\n",
            "\u001b[1m58/58\u001b[0m \u001b[32m━━━━━━━━━━━━━━━━━━━━\u001b[0m\u001b[37m\u001b[0m \u001b[1m0s\u001b[0m 3ms/step - accuracy: 0.9255 - loss: 0.1769 - val_accuracy: 0.8351 - val_loss: 0.5477\n",
            "Epoch 50/50\n",
            "\u001b[1m58/58\u001b[0m \u001b[32m━━━━━━━━━━━━━━━━━━━━\u001b[0m\u001b[37m\u001b[0m \u001b[1m0s\u001b[0m 3ms/step - accuracy: 0.9357 - loss: 0.1814 - val_accuracy: 0.8373 - val_loss: 0.5576\n",
            "Test Accuracy: 0.86\n",
            "\u001b[1m1/1\u001b[0m \u001b[32m━━━━━━━━━━━━━━━━━━━━\u001b[0m\u001b[37m\u001b[0m \u001b[1m0s\u001b[0m 164ms/step"
          ]
        },
        {
          "output_type": "stream",
          "name": "stderr",
          "text": [
            "/usr/local/lib/python3.11/dist-packages/sklearn/utils/validation.py:2739: UserWarning: X does not have valid feature names, but StandardScaler was fitted with feature names\n",
            "  warnings.warn(\n"
          ]
        },
        {
          "output_type": "stream",
          "name": "stdout",
          "text": [
            "\b\b\b\b\b\b\b\b\b\b\b\b\b\b\b\b\b\b\b\b\b\b\b\b\b\b\b\b\b\b\b\b\b\b\b\b\b\b\r\u001b[1m1/1\u001b[0m \u001b[32m━━━━━━━━━━━━━━━━━━━━\u001b[0m\u001b[37m\u001b[0m \u001b[1m0s\u001b[0m 180ms/step\n",
            "Recommended Crop: Kolza\n"
          ]
        }
      ]
    },
    {
      "cell_type": "code",
      "source": [
        "sample_input = np.array([[90, 42, 43, 20.88, 82.00, 6.5, 203]])  # Example input\n",
        "sample_input_scaled = scaler.transform(sample_input)\n",
        "c = model.predict(sample_input_scaled)\n",
        "# predicted_label = label_encoder.inverse_transform([np.argmax(prediction)])\n",
        "# print(f\"Recommended Crop: {predicted_label[0]}\")"
      ],
      "metadata": {
        "colab": {
          "base_uri": "https://localhost:8080/"
        },
        "id": "E4FRBSTsOtXP",
        "outputId": "b05f2dd3-0184-4827-9809-4190baec0a0a"
      },
      "execution_count": null,
      "outputs": [
        {
          "output_type": "stream",
          "name": "stdout",
          "text": [
            "\u001b[1m1/1\u001b[0m \u001b[32m━━━━━━━━━━━━━━━━━━━━\u001b[0m\u001b[37m\u001b[0m \u001b[1m0s\u001b[0m 28ms/step\n"
          ]
        },
        {
          "output_type": "stream",
          "name": "stderr",
          "text": [
            "/usr/local/lib/python3.11/dist-packages/sklearn/utils/validation.py:2739: UserWarning: X does not have valid feature names, but StandardScaler was fitted with feature names\n",
            "  warnings.warn(\n"
          ]
        }
      ]
    },
    {
      "cell_type": "code",
      "source": [
        "c"
      ],
      "metadata": {
        "colab": {
          "base_uri": "https://localhost:8080/"
        },
        "id": "atvxzPWwO5i2",
        "outputId": "fa40de75-1555-4ecd-8029-98100994df28"
      },
      "execution_count": null,
      "outputs": [
        {
          "output_type": "execute_result",
          "data": {
            "text/plain": [
              "array([[0.31007636, 0.5866392 , 0.6061087 , 0.45685962, 0.51441014,\n",
              "        0.7589967 , 0.27208868, 0.54519   , 0.48075745, 0.5052782 ,\n",
              "        0.5401552 , 0.43219528, 0.49154115, 0.37035203, 0.41697782,\n",
              "        0.5296902 , 0.6430177 , 0.4066218 , 0.532367  , 0.3692213 ,\n",
              "        0.36570218, 0.5292183 , 0.44041485, 0.34459674, 0.43709308,\n",
              "        0.5974065 , 0.43311095, 0.540286  , 0.6859461 , 0.53856295,\n",
              "        0.4836691 , 0.34030217, 0.41560236, 0.37303025, 0.59994996]],\n",
              "      dtype=float32)"
            ]
          },
          "metadata": {},
          "execution_count": 17
        }
      ]
    },
    {
      "cell_type": "code",
      "source": [
        "sample_input = np.array([[90, 42, 43, 20.88, 82.00, 6.5, 203]])  # N, P, K, temp, humidity, pH, rainfall\n",
        "sample_input_scaled = scaler.transform(sample_input)\n",
        "\n",
        "# Predict probabilities\n",
        "probabilities = model.predict(sample_input_scaled)[0]  # shape: (num_classes,)\n",
        "\n",
        "# Get top 10 indices with highest probabilities\n",
        "top_10_indices = np.argsort(probabilities)[::-1][:10]  # descending order\n",
        "\n",
        "# Map to crop labels (assuming label_encoder or a list of crop names)\n",
        "top_10_crops = [(label_encoder.inverse_transform([i])[0], probabilities[i]) for i in top_10_indices]\n",
        "\n",
        "# Print results\n",
        "print(\"Top 10 Recommended Crops:\")\n",
        "for crop, proba in top_10_crops:\n",
        "    print(f\"{crop}: {proba:.2f}\")"
      ],
      "metadata": {
        "colab": {
          "base_uri": "https://localhost:8080/"
        },
        "id": "Bu0i4NT_Pv0-",
        "outputId": "0016e6f0-3932-4c00-f9d4-4651ec94372b"
      },
      "execution_count": null,
      "outputs": [
        {
          "output_type": "stream",
          "name": "stdout",
          "text": [
            "\u001b[1m1/1\u001b[0m \u001b[32m━━━━━━━━━━━━━━━━━━━━\u001b[0m\u001b[37m\u001b[0m \u001b[1m0s\u001b[0m 100ms/step\n"
          ]
        },
        {
          "output_type": "stream",
          "name": "stderr",
          "text": [
            "/usr/local/lib/python3.11/dist-packages/sklearn/utils/validation.py:2739: UserWarning: X does not have valid feature names, but StandardScaler was fitted with feature names\n",
            "  warnings.warn(\n"
          ]
        },
        {
          "output_type": "stream",
          "name": "stdout",
          "text": [
            "Top 10 Recommended Crops:\n",
            "Kolza: 0.05\n",
            "YETISMEZ: 0.01\n",
            "Tritikale: 0.00\n",
            "Sogan: 0.00\n",
            "Aycicegi: 0.00\n",
            "Hashas: 0.00\n",
            "Yulaf: 0.00\n",
            "Kendir: 0.00\n",
            "Keten: 0.00\n",
            "Misir: 0.00\n"
          ]
        }
      ]
    },
    {
      "cell_type": "code",
      "source": [
        "top_10_crops"
      ],
      "metadata": {
        "colab": {
          "base_uri": "https://localhost:8080/"
        },
        "id": "k7Q8O3BPXhlx",
        "outputId": "6e868863-7c26-4047-ce83-41b22d8398a1"
      },
      "execution_count": null,
      "outputs": [
        {
          "output_type": "execute_result",
          "data": {
            "text/plain": [
              "[('Hashas', np.float32(0.7635736)),\n",
              " ('Yulaf', np.float32(0.67343897)),\n",
              " ('Kuru_Fasulye', np.float32(0.6492413)),\n",
              " ('Kaplica_Bugdayi', np.float32(0.62572134)),\n",
              " ('Borulce', np.float32(0.5978193)),\n",
              " ('Aspir', np.float32(0.5852952)),\n",
              " ('Arpa', np.float32(0.58197385)),\n",
              " ('Tritikale', np.float32(0.57666653)),\n",
              " ('Kayisi', np.float32(0.56973404)),\n",
              " ('Fig', np.float32(0.56417))]"
            ]
          },
          "metadata": {},
          "execution_count": 23
        }
      ]
    },
    {
      "cell_type": "code",
      "source": [
        "from sklearn.metrics import classification_report\n",
        "# Get predictions for the test set\n",
        "y_pred = model.predict(X_test)\n",
        "y_pred_classes = np.argmax(y_pred, axis=1)  # Convert probabilities to class labels\n",
        "y_test_classes = np.argmax(y_test, axis=1)  # Convert one-hot encoding to class labels\n",
        "# Generate classification report\n",
        "report = classification_report(y_test_classes, y_pred_classes, target_names=label_encoder.classes_)\n",
        "print(\"Classification Report:\\n\", report)"
      ],
      "metadata": {
        "colab": {
          "base_uri": "https://localhost:8080/"
        },
        "id": "s1339RLwk9ze",
        "outputId": "7f797d8f-94cd-4534-ddbc-37aeb21fc676"
      },
      "execution_count": null,
      "outputs": [
        {
          "output_type": "stream",
          "name": "stdout",
          "text": [
            "\u001b[1m18/18\u001b[0m \u001b[32m━━━━━━━━━━━━━━━━━━━━\u001b[0m\u001b[37m\u001b[0m \u001b[1m0s\u001b[0m 2ms/step  \n",
            "Classification Report:\n",
            "                  precision    recall  f1-score   support\n",
            "\n",
            "           Arpa       0.89      1.00      0.94        16\n",
            "          Aspir       0.91      0.91      0.91        11\n",
            "       Aycicegi       1.00      0.96      0.98        23\n",
            "          Bakla       0.95      0.90      0.92        20\n",
            "        Borulce       1.00      1.00      1.00        12\n",
            "         Bugday       0.80      1.00      0.89        12\n",
            "         Cavdar       0.74      0.88      0.80        16\n",
            "           Elma       0.75      0.69      0.72        13\n",
            "            Fig       0.93      0.88      0.90        16\n",
            "         Hashas       0.74      0.74      0.74        19\n",
            "Kaplica_Bugdayi       0.83      0.95      0.88        20\n",
            "         Kayisi       0.75      0.75      0.75        20\n",
            "         Kendir       0.91      0.71      0.80        14\n",
            "        Kenevir       0.70      1.00      0.82         7\n",
            "          Keten       0.90      0.90      0.90        21\n",
            "          Kiraz       0.58      0.85      0.69        13\n",
            "          Kolza       0.81      0.62      0.70        21\n",
            "        Korunga       0.87      0.93      0.90        14\n",
            "   Kuru_Fasulye       1.00      1.00      1.00        14\n",
            "       Mercimek       1.00      1.00      1.00        19\n",
            "          Misir       1.00      1.00      1.00        21\n",
            "          Nohut       1.00      1.00      1.00        13\n",
            "        Patates       1.00      0.92      0.96        12\n",
            "         Salgam       0.79      0.73      0.76        15\n",
            "       Sarimsak       0.59      0.72      0.65        18\n",
            "  Seker_Pancari       0.89      1.00      0.94        16\n",
            " Silajlik_Misir       0.94      1.00      0.97        16\n",
            "          Sogan       0.91      0.83      0.87        12\n",
            "           Soya       1.00      1.00      1.00         8\n",
            "          Susam       0.90      1.00      0.95        18\n",
            "      Tritikale       0.82      0.67      0.73        27\n",
            "          Tutun       0.88      1.00      0.94        15\n",
            "           Uzum       0.75      0.71      0.73        17\n",
            "       YETISMEZ       1.00      0.47      0.64        19\n",
            "          Yonca       0.94      1.00      0.97        15\n",
            "          Yulaf       0.91      0.77      0.83        13\n",
            "\n",
            "       accuracy                           0.86       576\n",
            "      macro avg       0.87      0.87      0.87       576\n",
            "   weighted avg       0.87      0.86      0.86       576\n",
            "\n"
          ]
        }
      ]
    },
    {
      "cell_type": "code",
      "source": [
        "print(f\"Test Accuracy: {accuracy:.2f}\")"
      ],
      "metadata": {
        "colab": {
          "base_uri": "https://localhost:8080/"
        },
        "id": "-NGXZEQMlLOq",
        "outputId": "c5b389b2-e305-4951-d2ff-9e3ad2a815b1"
      },
      "execution_count": null,
      "outputs": [
        {
          "output_type": "stream",
          "name": "stdout",
          "text": [
            "Test Accuracy: 0.86\n"
          ]
        }
      ]
    },
    {
      "cell_type": "code",
      "source": [
        "label_encoder.classes_"
      ],
      "metadata": {
        "id": "6wU41rUlzj1w",
        "colab": {
          "base_uri": "https://localhost:8080/"
        },
        "outputId": "6cd4f43f-d540-4170-8426-51c8554a36e0"
      },
      "execution_count": null,
      "outputs": [
        {
          "output_type": "execute_result",
          "data": {
            "text/plain": [
              "array(['Arpa', 'Aspir', 'Aycicegi', 'Bakla', 'Borulce', 'Bugday',\n",
              "       'Cavdar', 'Elma', 'Fig', 'Hashas', 'Kaplica_Bugdayi', 'Kayisi',\n",
              "       'Kendir', 'Kenevir', 'Keten', 'Kiraz', 'Kolza', 'Korunga',\n",
              "       'Kuru_Fasulye', 'Mercimek', 'Misir', 'Nohut', 'Patates', 'Salgam',\n",
              "       'Sarimsak', 'Seker_Pancari', 'Silajlik_Misir', 'Sogan', 'Soya',\n",
              "       'Susam', 'Tritikale', 'Tutun', 'Uzum', 'YETISMEZ', 'Yonca',\n",
              "       'Yulaf'], dtype=object)"
            ]
          },
          "metadata": {},
          "execution_count": 13
        }
      ]
    },
    {
      "cell_type": "code",
      "source": [
        "import pickle\n",
        "pickle.dump(label_encoder,open('label_encoder.pkl','wb'))\n",
        "pickle.dump(scaler,open('standartScaler.pkl','wb'))\n",
        "pickle.dump(model,open('cnnModel.pkl','wb'))"
      ],
      "metadata": {
        "id": "sr9bdWycTmZz"
      },
      "execution_count": null,
      "outputs": []
    }
  ]
}